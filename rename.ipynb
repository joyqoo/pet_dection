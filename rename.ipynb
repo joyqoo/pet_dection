{
 "cells": [
  {
   "cell_type": "code",
   "execution_count": 1,
   "id": "560cf51d",
   "metadata": {},
   "outputs": [],
   "source": [
    "import os"
   ]
  },
  {
   "cell_type": "code",
   "execution_count": 31,
   "id": "cdd03023",
   "metadata": {},
   "outputs": [],
   "source": [
    "class BatchRename():\n",
    "    def __init__(self):\n",
    "        self.path = 'C:/Users/www33/Desktop/test_data'  # JPEGImages文件夹路径\n",
    "\n",
    "    def rename(self):\n",
    "        filelist = os.listdir(self.path)\n",
    "        total_num = len(filelist)\n",
    "        i = 1\n",
    "        n = 6\n",
    "        for item in filelist:\n",
    "            if item.endswith('.jpg'):\n",
    "                n = 6 - len(str(i))\n",
    "                src = os.path.join(os.path.abspath(self.path), item)\n",
    "                dst = os.path.join(os.path.abspath(self.path), str(0) * n + str(i) + '.jpg')\n",
    "                try:\n",
    "                    os.rename(src, dst)\n",
    "                    print\n",
    "                    'converting %s to %s ...' % (src, dst)\n",
    "                    i = i + 1\n",
    "\n",
    "                except:\n",
    "                    continue\n",
    "        print\n",
    "        'total %d to rename & converted %d jpgs' % (total_num, i)\n",
    "if __name__ == '__main__':\n",
    "    demo = BatchRename()\n",
    "    demo.rename()"
   ]
  },
  {
   "cell_type": "code",
   "execution_count": null,
   "id": "8caa3e42",
   "metadata": {},
   "outputs": [],
   "source": []
  }
 ],
 "metadata": {
  "kernelspec": {
   "display_name": "Python 3",
   "language": "python",
   "name": "python3"
  },
  "language_info": {
   "codemirror_mode": {
    "name": "ipython",
    "version": 3
   },
   "file_extension": ".py",
   "mimetype": "text/x-python",
   "name": "python",
   "nbconvert_exporter": "python",
   "pygments_lexer": "ipython3",
   "version": "3.5.6"
  }
 },
 "nbformat": 4,
 "nbformat_minor": 5
}