{
 "cells": [
  {
   "cell_type": "code",
   "execution_count": 3,
   "id": "9c8f37ec",
   "metadata": {},
   "outputs": [],
   "source": [
    "\"\"\"\n",
    "图片批量翻转\n",
    "\"\"\"\n",
    "from PIL import Image\n",
    "import os\n",
    "import os.path"
   ]
  },
  {
   "cell_type": "code",
   "execution_count": 4,
   "id": "e3f8836c",
   "metadata": {},
   "outputs": [],
   "source": [
    "rootdir = r'D:/Project/Python/edgeAI/dataset/VOC2007/dataarg/ori/sit'\n",
    "for parent, dirnames, filenames in os.walk(rootdir):\n",
    "    for filename in filenames:\n",
    "        print('parent is :' + parent)\n",
    "        print('filename is :' + filename)\n",
    "        currentPath = os.path.join(parent, filename)\n",
    "        print('the fulll name of the file is :' + currentPath)\n",
    "\n",
    "        im = Image.open(currentPath)\n",
    "        # Image.FLIP_LEFT_RIGHT,表示将图像左右翻转\n",
    "        out = im.transpose(Image.FLIP_LEFT_RIGHT)\n",
    "\n",
    "        # Image.FLIP_TOP_BOTTOM,表示将图像上下翻转\n",
    "        # out = im.transpose(Image.FLIP_TOP_BOTTOM)\n",
    "\n",
    "        # Image.ROTATE_90,表示将图像逆时针旋转90°\n",
    "        # out = im.transpose(Image.ROTATE_90)\n",
    "\n",
    "        # Image.ROTATE_180,表示将图像逆时针旋转180°\n",
    "        # out = im.transpose(Image.ROTATE_180)\n",
    "\n",
    "        # Image.ROTATE_270,表示将图像逆时针旋转270°\n",
    "        # out = im.transpose(Image.ROTATE_270)\n",
    "\n",
    "        # Image.TRANSPOSE,表示将图像进行转置(相当于顺时针旋转90°)\n",
    "        # out = im.transpose(Image.TRANSPOSE)\n",
    "\n",
    "        # Image.TRANSVERSE,表示将图像进行转置,再水平翻转\n",
    "        # out = im.transpose(Image.TRANSVERSE)\n",
    "\n",
    "        # 新建文件夹保存翻转后图片\n",
    "        newname = r\"D:/Project/Python/edgeAI/dataset/VOC2007/dataarg/gen\" + '\\\\'+ 'transpose' + filename \n",
    "        out.save(newname)  # 保存结束"
   ]
  },
  {
   "cell_type": "code",
   "execution_count": 1,
   "id": "04791838",
   "metadata": {},
   "outputs": [
    {
     "name": "stderr",
     "output_type": "stream",
     "text": [
      "Using TensorFlow backend.\n"
     ]
    }
   ],
   "source": [
    "from keras.preprocessing.image import ImageDataGenerator"
   ]
  },
  {
   "cell_type": "code",
   "execution_count": 18,
   "id": "b168e2b4",
   "metadata": {},
   "outputs": [
    {
     "name": "stdout",
     "output_type": "stream",
     "text": [
      "Found 13 images belonging to 3 classes.\n",
      "完成圖片增強任務\n"
     ]
    }
   ],
   "source": [
    "\n",
    "path = 'C:/Users/www33/Desktop/data/ori'\n",
    "# path = 'C:/Users/www33/Desktop/dog_data'\n",
    "dst_path = 'C:/Users/www33/Desktop/data/gen'\n",
    "\n",
    "# datagen = ImageDataGenerator(\n",
    "#     rotation_range = 5,\n",
    "#     width_shift_range = 0.02,\n",
    "#     height_shift_range = 0.02,\n",
    "#     shear_range = 0.02,\n",
    "#     horizontal_flip = True\n",
    "# )\n",
    "# datagen = ImageDataGenerator(zoom_range=[0.8,1], horizontal_flip=1, rotation_range = 10)\n",
    "\n",
    "\n",
    "# datagen = ImageDataGenerator(shear_range=15, rotation_range = 50, zoom_range = 1.2)\n",
    "\n",
    "# datagen = ImageDataGenerator(fill_mode='constant', zoom_range=[3, 0.8], horizontal_flip=1, rotation_range = 5)\n",
    "# datagen = ImageDataGenerator(fill_mode='constant', zoom_range=[3, 0.8], horizontal_flip=1, rotation_range = 5)\n",
    "\n",
    "# dataGen = ImageDataGenerator(rescale=1. / 255, rotation_range = 40, zoom_range = 0.35, horizontal_flip=True, shear_range=1.2)\n",
    "\n",
    "gen = datagen.flow_from_directory(\n",
    "    path,\n",
    "    target_size = (1080, 1920),\n",
    "    batch_size = 1,\n",
    "    save_to_dir = dst_path,\n",
    "    save_prefix = 'AAA',\n",
    "    save_format = 'jpg'\n",
    ")\n",
    " \n",
    "for i in range(5):\n",
    "    gen.next()\n",
    "print('完成圖片增強任務')"
   ]
  },
  {
   "cell_type": "code",
   "execution_count": null,
   "id": "9f366dd0",
   "metadata": {},
   "outputs": [],
   "source": []
  }
 ],
 "metadata": {
  "kernelspec": {
   "display_name": "Python 3",
   "language": "python",
   "name": "python3"
  },
  "language_info": {
   "codemirror_mode": {
    "name": "ipython",
    "version": 3
   },
   "file_extension": ".py",
   "mimetype": "text/x-python",
   "name": "python",
   "nbconvert_exporter": "python",
   "pygments_lexer": "ipython3",
   "version": "3.5.6"
  }
 },
 "nbformat": 4,
 "nbformat_minor": 5
}
